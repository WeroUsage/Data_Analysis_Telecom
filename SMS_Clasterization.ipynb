{
 "cells": [
  {
   "cell_type": "code",
   "execution_count": 1,
   "id": "f186355c",
   "metadata": {},
   "outputs": [
    {
     "name": "stderr",
     "output_type": "stream",
     "text": [
      "C:\\Users\\a.tsereteli\\AppData\\Local\\Temp\\ipykernel_18016\\3979122280.py:20: UserWarning: pandas only supports SQLAlchemy connectable (engine/connection) or database string URI or sqlite3 DBAPI2 connection. Other DBAPI2 objects are not tested. Please consider using SQLAlchemy.\n",
      "  return pd.read_sql(sql_query,connection)  # without parameters [non-prepared statement]\n"
     ]
    }
   ],
   "source": [
    "import warnings\n",
    "%run ConnectOracleDB.ipynb"
   ]
  },
  {
   "cell_type": "code",
   "execution_count": 2,
   "id": "a8c84684",
   "metadata": {},
   "outputs": [
    {
     "name": "stderr",
     "output_type": "stream",
     "text": [
      "C:\\Users\\a.tsereteli\\AppData\\Local\\Temp\\ipykernel_18016\\3979122280.py:20: UserWarning: pandas only supports SQLAlchemy connectable (engine/connection) or database string URI or sqlite3 DBAPI2 connection. Other DBAPI2 objects are not tested. Please consider using SQLAlchemy.\n",
      "  return pd.read_sql(sql_query,connection)  # without parameters [non-prepared statement]\n"
     ]
    }
   ],
   "source": [
    "table_name = 'DWH_COE.DICT_OFFER'\n",
    "df = fetch_table_as_dataframe(table_name)"
   ]
  },
  {
   "cell_type": "code",
   "execution_count": 3,
   "id": "73bb64bb",
   "metadata": {},
   "outputs": [],
   "source": [
    "# Data analysis and wrangling\n",
    "import pandas as pd\n",
    "import numpy as np\n",
    "\n",
    "# Data visualisation\n",
    "import seaborn as sns\n",
    "import matplotlib.pyplot as plt\n",
    "\n",
    "# Shows plots in jupyter notebook\n",
    "%matplotlib inline\n",
    "\n",
    "# Set plot style\n",
    "sns.set(color_codes=True)\n",
    "\n",
    "# Remove warnings\n",
    "import warnings\n",
    "warnings.filterwarnings('ignore')"
   ]
  },
  {
   "cell_type": "code",
   "execution_count": 4,
   "id": "1ea5cc7e",
   "metadata": {},
   "outputs": [
    {
     "data": {
      "text/html": [
       "<div>\n",
       "<style scoped>\n",
       "    .dataframe tbody tr th:only-of-type {\n",
       "        vertical-align: middle;\n",
       "    }\n",
       "\n",
       "    .dataframe tbody tr th {\n",
       "        vertical-align: top;\n",
       "    }\n",
       "\n",
       "    .dataframe thead th {\n",
       "        text-align: right;\n",
       "    }\n",
       "</style>\n",
       "<table border=\"1\" class=\"dataframe\">\n",
       "  <thead>\n",
       "    <tr style=\"text-align: right;\">\n",
       "      <th></th>\n",
       "      <th>OFFER_ID</th>\n",
       "      <th>OFFER_TYPE</th>\n",
       "      <th>OFFER_NAME</th>\n",
       "      <th>OFFER_CATEGORY</th>\n",
       "      <th>REC_DATE</th>\n",
       "      <th>SAS_MAPPING</th>\n",
       "    </tr>\n",
       "  </thead>\n",
       "  <tbody>\n",
       "    <tr>\n",
       "      <th>0</th>\n",
       "      <td>40001.0</td>\n",
       "      <td>11</td>\n",
       "      <td>Happy Card</td>\n",
       "      <td>None</td>\n",
       "      <td>NaT</td>\n",
       "      <td>OTHER</td>\n",
       "    </tr>\n",
       "    <tr>\n",
       "      <th>1</th>\n",
       "      <td>40003.0</td>\n",
       "      <td>13</td>\n",
       "      <td>One-time Data Package 3GB for 15 USD</td>\n",
       "      <td>None</td>\n",
       "      <td>NaT</td>\n",
       "      <td>Data Package</td>\n",
       "    </tr>\n",
       "    <tr>\n",
       "      <th>2</th>\n",
       "      <td>40005.0</td>\n",
       "      <td>12</td>\n",
       "      <td>SMS Package 200 item for 10 USD</td>\n",
       "      <td>None</td>\n",
       "      <td>NaT</td>\n",
       "      <td>SMS Data</td>\n",
       "    </tr>\n",
       "    <tr>\n",
       "      <th>3</th>\n",
       "      <td>40006.0</td>\n",
       "      <td>12</td>\n",
       "      <td>Data Package 2GB for 20 USD</td>\n",
       "      <td>None</td>\n",
       "      <td>NaT</td>\n",
       "      <td>Data Package</td>\n",
       "    </tr>\n",
       "    <tr>\n",
       "      <th>4</th>\n",
       "      <td>40008.0</td>\n",
       "      <td>12</td>\n",
       "      <td>Unlimited Roaming Package 4days for Japan</td>\n",
       "      <td>Roaming</td>\n",
       "      <td>NaT</td>\n",
       "      <td>None</td>\n",
       "    </tr>\n",
       "  </tbody>\n",
       "</table>\n",
       "</div>"
      ],
      "text/plain": [
       "   OFFER_ID OFFER_TYPE                                 OFFER_NAME  \\\n",
       "0   40001.0         11                                 Happy Card   \n",
       "1   40003.0         13       One-time Data Package 3GB for 15 USD   \n",
       "2   40005.0         12            SMS Package 200 item for 10 USD   \n",
       "3   40006.0         12                Data Package 2GB for 20 USD   \n",
       "4   40008.0         12  Unlimited Roaming Package 4days for Japan   \n",
       "\n",
       "  OFFER_CATEGORY REC_DATE   SAS_MAPPING  \n",
       "0           None      NaT         OTHER  \n",
       "1           None      NaT  Data Package  \n",
       "2           None      NaT      SMS Data  \n",
       "3           None      NaT  Data Package  \n",
       "4        Roaming      NaT          None  "
      ]
     },
     "execution_count": 4,
     "metadata": {},
     "output_type": "execute_result"
    }
   ],
   "source": [
    "df.head(5)"
   ]
  },
  {
   "cell_type": "code",
   "execution_count": 5,
   "id": "d0016264",
   "metadata": {},
   "outputs": [
    {
     "name": "stdout",
     "output_type": "stream",
     "text": [
      "<class 'pandas.core.frame.DataFrame'>\n",
      "RangeIndex: 4782 entries, 0 to 4781\n",
      "Data columns (total 6 columns):\n",
      " #   Column          Non-Null Count  Dtype         \n",
      "---  ------          --------------  -----         \n",
      " 0   OFFER_ID        4782 non-null   float64       \n",
      " 1   OFFER_TYPE      4782 non-null   object        \n",
      " 2   OFFER_NAME      4782 non-null   object        \n",
      " 3   OFFER_CATEGORY  154 non-null    object        \n",
      " 4   REC_DATE        1088 non-null   datetime64[ns]\n",
      " 5   SAS_MAPPING     3434 non-null   object        \n",
      "dtypes: datetime64[ns](1), float64(1), object(4)\n",
      "memory usage: 224.3+ KB\n"
     ]
    }
   ],
   "source": [
    "df.info()"
   ]
  },
  {
   "cell_type": "code",
   "execution_count": 12,
   "id": "d1470d74",
   "metadata": {},
   "outputs": [],
   "source": [
    "offers =df[\"OFFER_NAME\"].unique()"
   ]
  },
  {
   "cell_type": "code",
   "execution_count": 13,
   "id": "cde01dc2",
   "metadata": {},
   "outputs": [
    {
     "data": {
      "text/plain": [
       "4772"
      ]
     },
     "execution_count": 13,
     "metadata": {},
     "output_type": "execute_result"
    }
   ],
   "source": [
    "len(offers)"
   ]
  },
  {
   "cell_type": "code",
   "execution_count": null,
   "id": "14e662fc",
   "metadata": {},
   "outputs": [],
   "source": []
  }
 ],
 "metadata": {
  "kernelspec": {
   "display_name": "Python 3 (ipykernel)",
   "language": "python",
   "name": "python3"
  },
  "language_info": {
   "codemirror_mode": {
    "name": "ipython",
    "version": 3
   },
   "file_extension": ".py",
   "mimetype": "text/x-python",
   "name": "python",
   "nbconvert_exporter": "python",
   "pygments_lexer": "ipython3",
   "version": "3.11.3"
  }
 },
 "nbformat": 4,
 "nbformat_minor": 5
}
