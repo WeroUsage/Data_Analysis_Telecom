{
 "cells": [
  {
   "cell_type": "code",
   "execution_count": 1,
   "id": "ee59d1e5",
   "metadata": {},
   "outputs": [
    {
     "name": "stderr",
     "output_type": "stream",
     "text": [
      "C:\\Users\\a.tsereteli\\AppData\\Local\\Temp\\ipykernel_10292\\3979122280.py:20: UserWarning: pandas only supports SQLAlchemy connectable (engine/connection) or database string URI or sqlite3 DBAPI2 connection. Other DBAPI2 objects are not tested. Please consider using SQLAlchemy.\n",
      "  return pd.read_sql(sql_query,connection)  # without parameters [non-prepared statement]\n",
      "C:\\Users\\a.tsereteli\\AppData\\Local\\Temp\\ipykernel_10292\\3979122280.py:20: UserWarning: pandas only supports SQLAlchemy connectable (engine/connection) or database string URI or sqlite3 DBAPI2 connection. Other DBAPI2 objects are not tested. Please consider using SQLAlchemy.\n",
      "  return pd.read_sql(sql_query,connection)  # without parameters [non-prepared statement]\n"
     ]
    }
   ],
   "source": [
    "import warnings\n",
    "%run ConnectOracleDB.ipynb\n",
    "\n",
    "table_name = 'DICT_DEVICE_MOBILE'\n",
    "df = fetch_table_as_dataframe(table_name)"
   ]
  },
  {
   "cell_type": "code",
   "execution_count": 23,
   "id": "72f91dfd",
   "metadata": {},
   "outputs": [],
   "source": [
    "# Data analysis and wrangling\n",
    "import pandas as pd\n",
    "import numpy as np\n",
    "\n",
    "# Data visualisation\n",
    "import seaborn as sns\n",
    "import matplotlib.pyplot as plt\n",
    "\n",
    "from tqdm.notebook import tqdm\n",
    "\n",
    "# Shows plots in jupyter notebook\n",
    "%matplotlib inline\n",
    "\n",
    "# Set plot style\n",
    "sns.set(color_codes=True)\n",
    "\n",
    "# Remove warnings\n",
    "import warnings\n",
    "warnings.filterwarnings('ignore')"
   ]
  },
  {
   "cell_type": "code",
   "execution_count": 3,
   "id": "d27a0864",
   "metadata": {},
   "outputs": [
    {
     "data": {
      "text/html": [
       "<div>\n",
       "<style scoped>\n",
       "    .dataframe tbody tr th:only-of-type {\n",
       "        vertical-align: middle;\n",
       "    }\n",
       "\n",
       "    .dataframe tbody tr th {\n",
       "        vertical-align: top;\n",
       "    }\n",
       "\n",
       "    .dataframe thead th {\n",
       "        text-align: right;\n",
       "    }\n",
       "</style>\n",
       "<table border=\"1\" class=\"dataframe\">\n",
       "  <thead>\n",
       "    <tr style=\"text-align: right;\">\n",
       "      <th></th>\n",
       "      <th>TAC_CODE</th>\n",
       "      <th>DEVICE_BRAND</th>\n",
       "      <th>DEVICE_NAME</th>\n",
       "      <th>DEVICE_TECH_NAME</th>\n",
       "      <th>NETW</th>\n",
       "      <th>LTE_CAT</th>\n",
       "      <th>DEVICE_TYPE</th>\n",
       "      <th>IS_SMART</th>\n",
       "      <th>IS_M2M</th>\n",
       "      <th>SIM_TYPE</th>\n",
       "      <th>SIM_DUAL</th>\n",
       "      <th>SIMS</th>\n",
       "      <th>IMEIS</th>\n",
       "    </tr>\n",
       "  </thead>\n",
       "  <tbody>\n",
       "    <tr>\n",
       "      <th>0</th>\n",
       "      <td>01199900</td>\n",
       "      <td>Multi-Tech</td>\n",
       "      <td>MTSMC-G2-V</td>\n",
       "      <td>MTSMC-G2-V</td>\n",
       "      <td>None</td>\n",
       "      <td>No</td>\n",
       "      <td>Basic Phone</td>\n",
       "      <td>N</td>\n",
       "      <td>No</td>\n",
       "      <td>Mini SIM</td>\n",
       "      <td>No</td>\n",
       "      <td>1</td>\n",
       "      <td>1</td>\n",
       "    </tr>\n",
       "    <tr>\n",
       "      <th>1</th>\n",
       "      <td>01201100</td>\n",
       "      <td>LG</td>\n",
       "      <td>GR500</td>\n",
       "      <td>GR500</td>\n",
       "      <td>3G</td>\n",
       "      <td>No</td>\n",
       "      <td>Feature Phone</td>\n",
       "      <td>N</td>\n",
       "      <td>No</td>\n",
       "      <td>Mini SIM</td>\n",
       "      <td>No</td>\n",
       "      <td>1</td>\n",
       "      <td>1</td>\n",
       "    </tr>\n",
       "    <tr>\n",
       "      <th>2</th>\n",
       "      <td>01202000</td>\n",
       "      <td>Apple</td>\n",
       "      <td>iPhone 3G</td>\n",
       "      <td>A1241</td>\n",
       "      <td>3G</td>\n",
       "      <td>No</td>\n",
       "      <td>Smartphone</td>\n",
       "      <td>Y</td>\n",
       "      <td>No</td>\n",
       "      <td>Mini SIM</td>\n",
       "      <td>No</td>\n",
       "      <td>1</td>\n",
       "      <td>1</td>\n",
       "    </tr>\n",
       "    <tr>\n",
       "      <th>3</th>\n",
       "      <td>01202100</td>\n",
       "      <td>Apple</td>\n",
       "      <td>iPhone 3G</td>\n",
       "      <td>A1241</td>\n",
       "      <td>3G</td>\n",
       "      <td>No</td>\n",
       "      <td>Smartphone</td>\n",
       "      <td>Y</td>\n",
       "      <td>No</td>\n",
       "      <td>Mini SIM</td>\n",
       "      <td>No</td>\n",
       "      <td>1</td>\n",
       "      <td>1</td>\n",
       "    </tr>\n",
       "    <tr>\n",
       "      <th>4</th>\n",
       "      <td>01177300</td>\n",
       "      <td>Apple</td>\n",
       "      <td>iPhone 3G</td>\n",
       "      <td>A1241</td>\n",
       "      <td>3G</td>\n",
       "      <td>No</td>\n",
       "      <td>Smartphone</td>\n",
       "      <td>Y</td>\n",
       "      <td>No</td>\n",
       "      <td>Mini SIM</td>\n",
       "      <td>No</td>\n",
       "      <td>1</td>\n",
       "      <td>1</td>\n",
       "    </tr>\n",
       "  </tbody>\n",
       "</table>\n",
       "</div>"
      ],
      "text/plain": [
       "   TAC_CODE DEVICE_BRAND DEVICE_NAME DEVICE_TECH_NAME  NETW LTE_CAT  \\\n",
       "0  01199900   Multi-Tech  MTSMC-G2-V       MTSMC-G2-V  None      No   \n",
       "1  01201100           LG       GR500            GR500    3G      No   \n",
       "2  01202000        Apple   iPhone 3G            A1241    3G      No   \n",
       "3  01202100        Apple   iPhone 3G            A1241    3G      No   \n",
       "4  01177300        Apple   iPhone 3G            A1241    3G      No   \n",
       "\n",
       "     DEVICE_TYPE IS_SMART IS_M2M  SIM_TYPE SIM_DUAL SIMS IMEIS  \n",
       "0    Basic Phone        N     No  Mini SIM       No    1     1  \n",
       "1  Feature Phone        N     No  Mini SIM       No    1     1  \n",
       "2     Smartphone        Y     No  Mini SIM       No    1     1  \n",
       "3     Smartphone        Y     No  Mini SIM       No    1     1  \n",
       "4     Smartphone        Y     No  Mini SIM       No    1     1  "
      ]
     },
     "execution_count": 3,
     "metadata": {},
     "output_type": "execute_result"
    }
   ],
   "source": [
    "df.head(5)"
   ]
  },
  {
   "cell_type": "code",
   "execution_count": 17,
   "id": "38a7e18a",
   "metadata": {},
   "outputs": [
    {
     "data": {
      "text/plain": [
       "array(['Multi-Tech MTSMC-G2-V', 'LG GR500', 'Apple iPhone 3G', ...,\n",
       "       'Vivo V23 PRO', 'ZTE Grand X IN',\n",
       "       'Hui Zhou Cong Communication Co Ltd Beeline PRO 4'], dtype=object)"
      ]
     },
     "execution_count": 17,
     "metadata": {},
     "output_type": "execute_result"
    }
   ],
   "source": [
    "dev_name = df[['DEVICE_BRAND','DEVICE_NAME']].dropna()\n",
    "dev_name[\"DEVICE_TITLE\"]=dev_name['DEVICE_BRAND']+' '+dev_name['DEVICE_NAME']\n",
    "arr1 = dev_name[\"DEVICE_TITLE\"].unique()\n",
    "arr1"
   ]
  },
  {
   "cell_type": "code",
   "execution_count": 18,
   "id": "84de4c32",
   "metadata": {},
   "outputs": [],
   "source": [
    "import numpy as np\n",
    "from scipy.cluster.hierarchy import linkage, fcluster\n",
    "from Levenshtein import distance"
   ]
  },
  {
   "cell_type": "code",
   "execution_count": 19,
   "id": "11e46bb5",
   "metadata": {},
   "outputs": [],
   "source": [
    "# Sample list of device models\n",
    "device_models = arr1"
   ]
  },
  {
   "cell_type": "code",
   "execution_count": 20,
   "id": "c3c1ed5f",
   "metadata": {},
   "outputs": [],
   "source": [
    "# Calculate pairwise Levenshtein distances\n",
    "arr_len = len(device_models)\n",
    "distance_matrix = np.zeros((arr_len, arr_len))"
   ]
  },
  {
   "cell_type": "code",
   "execution_count": 24,
   "id": "357d71e8",
   "metadata": {},
   "outputs": [
    {
     "data": {
      "application/vnd.jupyter.widget-view+json": {
       "model_id": "3a50749ec0d6482b8a43075d83956b53",
       "version_major": 2,
       "version_minor": 0
      },
      "text/plain": [
       "  0%|          | 0/30587 [00:00<?, ?it/s]"
      ]
     },
     "metadata": {},
     "output_type": "display_data"
    },
    {
     "data": {
      "text/plain": [
       "array([[ 0., 20., 19., ..., 19., 19., 44.],\n",
       "       [20.,  0., 14., ..., 11., 12., 45.],\n",
       "       [19., 14.,  0., ..., 14., 14., 42.],\n",
       "       ...,\n",
       "       [19., 11., 14., ...,  0., 13., 41.],\n",
       "       [19., 12., 14., ..., 13.,  0., 41.],\n",
       "       [44., 45., 42., ..., 41., 41.,  0.]])"
      ]
     },
     "execution_count": 24,
     "metadata": {},
     "output_type": "execute_result"
    }
   ],
   "source": [
    "for i in tqdm(range(arr_len)):\n",
    "    for j in range(arr_len):\n",
    "        distance_matrix[i, j] = distance(device_models[i], device_models[j])\n",
    "distance_matrix"
   ]
  },
  {
   "cell_type": "code",
   "execution_count": 25,
   "id": "c4f0a871",
   "metadata": {},
   "outputs": [
    {
     "ename": "MemoryError",
     "evalue": "Unable to allocate 6.97 GiB for an array with shape (30587, 30587) and data type float64",
     "output_type": "error",
     "traceback": [
      "\u001b[1;31m---------------------------------------------------------------------------\u001b[0m",
      "\u001b[1;31mMemoryError\u001b[0m                               Traceback (most recent call last)",
      "Cell \u001b[1;32mIn[25], line 2\u001b[0m\n\u001b[0;32m      1\u001b[0m \u001b[38;5;66;03m# Perform hierarchical clustering\u001b[39;00m\n\u001b[1;32m----> 2\u001b[0m linkage_matrix \u001b[38;5;241m=\u001b[39m linkage(distance_matrix, method\u001b[38;5;241m=\u001b[39m\u001b[38;5;124m'\u001b[39m\u001b[38;5;124msingle\u001b[39m\u001b[38;5;124m'\u001b[39m)\n\u001b[0;32m      3\u001b[0m \u001b[38;5;66;03m# Set a threshold to cut the dendrogram into clusters\u001b[39;00m\n\u001b[0;32m      4\u001b[0m threshold \u001b[38;5;241m=\u001b[39m \u001b[38;5;241m18\u001b[39m  \u001b[38;5;66;03m# Adjust this threshold based on your data and desired level of similarity\u001b[39;00m\n",
      "File \u001b[1;32m~\\AppData\\Local\\anaconda3\\Lib\\site-packages\\scipy\\cluster\\hierarchy.py:1056\u001b[0m, in \u001b[0;36mlinkage\u001b[1;34m(y, method, metric, optimal_ordering)\u001b[0m\n\u001b[0;32m   1053\u001b[0m     \u001b[38;5;28;01mraise\u001b[39;00m \u001b[38;5;167;01mValueError\u001b[39;00m(\u001b[38;5;124m\"\u001b[39m\u001b[38;5;124mMethod \u001b[39m\u001b[38;5;124m'\u001b[39m\u001b[38;5;132;01m{0}\u001b[39;00m\u001b[38;5;124m'\u001b[39m\u001b[38;5;124m requires the distance metric \u001b[39m\u001b[38;5;124m\"\u001b[39m\n\u001b[0;32m   1054\u001b[0m                      \u001b[38;5;124m\"\u001b[39m\u001b[38;5;124mto be Euclidean\u001b[39m\u001b[38;5;124m\"\u001b[39m\u001b[38;5;241m.\u001b[39mformat(method))\n\u001b[0;32m   1055\u001b[0m \u001b[38;5;28;01mif\u001b[39;00m y\u001b[38;5;241m.\u001b[39mshape[\u001b[38;5;241m0\u001b[39m] \u001b[38;5;241m==\u001b[39m y\u001b[38;5;241m.\u001b[39mshape[\u001b[38;5;241m1\u001b[39m] \u001b[38;5;129;01mand\u001b[39;00m np\u001b[38;5;241m.\u001b[39mallclose(np\u001b[38;5;241m.\u001b[39mdiag(y), \u001b[38;5;241m0\u001b[39m):\n\u001b[1;32m-> 1056\u001b[0m     \u001b[38;5;28;01mif\u001b[39;00m np\u001b[38;5;241m.\u001b[39mall(y \u001b[38;5;241m>\u001b[39m\u001b[38;5;241m=\u001b[39m \u001b[38;5;241m0\u001b[39m) \u001b[38;5;129;01mand\u001b[39;00m np\u001b[38;5;241m.\u001b[39mallclose(y, y\u001b[38;5;241m.\u001b[39mT):\n\u001b[0;32m   1057\u001b[0m         _warning(\u001b[38;5;124m'\u001b[39m\u001b[38;5;124mThe symmetric non-negative hollow observation \u001b[39m\u001b[38;5;124m'\u001b[39m\n\u001b[0;32m   1058\u001b[0m                  \u001b[38;5;124m'\u001b[39m\u001b[38;5;124mmatrix looks suspiciously like an uncondensed \u001b[39m\u001b[38;5;124m'\u001b[39m\n\u001b[0;32m   1059\u001b[0m                  \u001b[38;5;124m'\u001b[39m\u001b[38;5;124mdistance matrix\u001b[39m\u001b[38;5;124m'\u001b[39m)\n\u001b[0;32m   1060\u001b[0m y \u001b[38;5;241m=\u001b[39m distance\u001b[38;5;241m.\u001b[39mpdist(y, metric)\n",
      "File \u001b[1;32m<__array_function__ internals>:200\u001b[0m, in \u001b[0;36mallclose\u001b[1;34m(*args, **kwargs)\u001b[0m\n",
      "File \u001b[1;32m~\\AppData\\Local\\anaconda3\\Lib\\site-packages\\numpy\\core\\numeric.py:2270\u001b[0m, in \u001b[0;36mallclose\u001b[1;34m(a, b, rtol, atol, equal_nan)\u001b[0m\n\u001b[0;32m   2199\u001b[0m \u001b[38;5;129m@array_function_dispatch\u001b[39m(_allclose_dispatcher)\n\u001b[0;32m   2200\u001b[0m \u001b[38;5;28;01mdef\u001b[39;00m \u001b[38;5;21mallclose\u001b[39m(a, b, rtol\u001b[38;5;241m=\u001b[39m\u001b[38;5;241m1.e-5\u001b[39m, atol\u001b[38;5;241m=\u001b[39m\u001b[38;5;241m1.e-8\u001b[39m, equal_nan\u001b[38;5;241m=\u001b[39m\u001b[38;5;28;01mFalse\u001b[39;00m):\n\u001b[0;32m   2201\u001b[0m \u001b[38;5;250m    \u001b[39m\u001b[38;5;124;03m\"\"\"\u001b[39;00m\n\u001b[0;32m   2202\u001b[0m \u001b[38;5;124;03m    Returns True if two arrays are element-wise equal within a tolerance.\u001b[39;00m\n\u001b[0;32m   2203\u001b[0m \n\u001b[1;32m   (...)\u001b[0m\n\u001b[0;32m   2268\u001b[0m \n\u001b[0;32m   2269\u001b[0m \u001b[38;5;124;03m    \"\"\"\u001b[39;00m\n\u001b[1;32m-> 2270\u001b[0m     res \u001b[38;5;241m=\u001b[39m \u001b[38;5;28mall\u001b[39m(isclose(a, b, rtol\u001b[38;5;241m=\u001b[39mrtol, atol\u001b[38;5;241m=\u001b[39matol, equal_nan\u001b[38;5;241m=\u001b[39mequal_nan))\n\u001b[0;32m   2271\u001b[0m     \u001b[38;5;28;01mreturn\u001b[39;00m \u001b[38;5;28mbool\u001b[39m(res)\n",
      "File \u001b[1;32m<__array_function__ internals>:200\u001b[0m, in \u001b[0;36misclose\u001b[1;34m(*args, **kwargs)\u001b[0m\n",
      "File \u001b[1;32m~\\AppData\\Local\\anaconda3\\Lib\\site-packages\\numpy\\core\\numeric.py:2380\u001b[0m, in \u001b[0;36misclose\u001b[1;34m(a, b, rtol, atol, equal_nan)\u001b[0m\n\u001b[0;32m   2378\u001b[0m yfin \u001b[38;5;241m=\u001b[39m isfinite(y)\n\u001b[0;32m   2379\u001b[0m \u001b[38;5;28;01mif\u001b[39;00m \u001b[38;5;28mall\u001b[39m(xfin) \u001b[38;5;129;01mand\u001b[39;00m \u001b[38;5;28mall\u001b[39m(yfin):\n\u001b[1;32m-> 2380\u001b[0m     \u001b[38;5;28;01mreturn\u001b[39;00m within_tol(x, y, atol, rtol)\n\u001b[0;32m   2381\u001b[0m \u001b[38;5;28;01melse\u001b[39;00m:\n\u001b[0;32m   2382\u001b[0m     finite \u001b[38;5;241m=\u001b[39m xfin \u001b[38;5;241m&\u001b[39m yfin\n",
      "File \u001b[1;32m~\\AppData\\Local\\anaconda3\\Lib\\site-packages\\numpy\\core\\numeric.py:2361\u001b[0m, in \u001b[0;36misclose.<locals>.within_tol\u001b[1;34m(x, y, atol, rtol)\u001b[0m\n\u001b[0;32m   2359\u001b[0m \u001b[38;5;28;01mdef\u001b[39;00m \u001b[38;5;21mwithin_tol\u001b[39m(x, y, atol, rtol):\n\u001b[0;32m   2360\u001b[0m     \u001b[38;5;28;01mwith\u001b[39;00m errstate(invalid\u001b[38;5;241m=\u001b[39m\u001b[38;5;124m'\u001b[39m\u001b[38;5;124mignore\u001b[39m\u001b[38;5;124m'\u001b[39m), _no_nep50_warning():\n\u001b[1;32m-> 2361\u001b[0m         \u001b[38;5;28;01mreturn\u001b[39;00m less_equal(\u001b[38;5;28mabs\u001b[39m(x\u001b[38;5;241m-\u001b[39my), atol \u001b[38;5;241m+\u001b[39m rtol \u001b[38;5;241m*\u001b[39m \u001b[38;5;28mabs\u001b[39m(y))\n",
      "\u001b[1;31mMemoryError\u001b[0m: Unable to allocate 6.97 GiB for an array with shape (30587, 30587) and data type float64"
     ]
    }
   ],
   "source": [
    "# Perform hierarchical clustering\n",
    "linkage_matrix = linkage(distance_matrix, method='single')\n",
    "# Set a threshold to cut the dendrogram into clusters\n",
    "threshold = 18  # Adjust this threshold based on your data and desired level of similarity\n",
    "cluster_assignments = fcluster(linkage_matrix, threshold, criterion='distance')\n",
    "\n",
    "# Count the size of each cluster\n",
    "cluster_sizes = np.bincount(cluster_assignments)\n",
    "\n",
    "# Create a dictionary to store device models in each cluster\n",
    "clusters = {}\n",
    "for i, cluster_id in enumerate(cluster_assignments):\n",
    "    device_model = device_models[i]\n",
    "    \n",
    "    if cluster_sizes[cluster_id] <= 2:  # If cluster size is small (adjust the threshold)\n",
    "        # Assign the device model to another cluster with a larger size\n",
    "        new_cluster_id = np.argmax(cluster_sizes)  # Find the cluster with the largest size\n",
    "        cluster_sizes[new_cluster_id] += 1\n",
    "        cluster_id = new_cluster_id\n",
    "    if cluster_id not in clusters:\n",
    "        clusters[cluster_id] = []\n",
    "    \n",
    "    \n",
    "    clusters[cluster_id].append(device_model)\n",
    "\n",
    "# Print the clusters\n",
    "\n",
    "for cluster_id, device_models in clusters.items():\n",
    "    print(f\"Cluster {cluster_id}: {device_models}\")"
   ]
  },
  {
   "cell_type": "code",
   "execution_count": 12,
   "id": "0d7c44d5",
   "metadata": {},
   "outputs": [
    {
     "ename": "TypeError",
     "evalue": "object of type 'builtin_function_or_method' has no len()",
     "output_type": "error",
     "traceback": [
      "\u001b[1;31m---------------------------------------------------------------------------\u001b[0m",
      "\u001b[1;31mTypeError\u001b[0m                                 Traceback (most recent call last)",
      "Cell \u001b[1;32mIn[12], line 1\u001b[0m\n\u001b[1;32m----> 1\u001b[0m \u001b[38;5;28mlen\u001b[39m(clusters\u001b[38;5;241m.\u001b[39mitems)\n",
      "\u001b[1;31mTypeError\u001b[0m: object of type 'builtin_function_or_method' has no len()"
     ]
    }
   ],
   "source": []
  },
  {
   "cell_type": "code",
   "execution_count": null,
   "id": "1c229577",
   "metadata": {},
   "outputs": [],
   "source": []
  }
 ],
 "metadata": {
  "kernelspec": {
   "display_name": "Python 3 (ipykernel)",
   "language": "python",
   "name": "python3"
  },
  "language_info": {
   "codemirror_mode": {
    "name": "ipython",
    "version": 3
   },
   "file_extension": ".py",
   "mimetype": "text/x-python",
   "name": "python",
   "nbconvert_exporter": "python",
   "pygments_lexer": "ipython3",
   "version": "3.11.3"
  }
 },
 "nbformat": 4,
 "nbformat_minor": 5
}
