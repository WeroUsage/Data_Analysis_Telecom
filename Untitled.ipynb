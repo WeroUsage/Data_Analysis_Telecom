{
 "cells": [
  {
   "cell_type": "code",
   "execution_count": 7,
   "id": "56daca8f",
   "metadata": {},
   "outputs": [
    {
     "ename": "Error",
     "evalue": "('HY000', '[HY000] [Oracle][ODBC][Ora]ORA-12170: TNS:Connect timeout occurred\\n (12170) (SQLDriverConnect); [HY000] [Oracle][ODBC][Ora]ORA-12170: TNS:Connect timeout occurred\\n (12170)')",
     "output_type": "error",
     "traceback": [
      "\u001b[1;31m---------------------------------------------------------------------------\u001b[0m",
      "\u001b[1;31mError\u001b[0m                                     Traceback (most recent call last)",
      "Cell \u001b[1;32mIn[7], line 8\u001b[0m\n\u001b[0;32m      5\u001b[0m password \u001b[38;5;241m=\u001b[39m \u001b[38;5;124m\"\u001b[39m\u001b[38;5;124mSilk0908$Coe\u001b[39m\u001b[38;5;124m\"\u001b[39m\n\u001b[0;32m      6\u001b[0m dsn \u001b[38;5;241m=\u001b[39m \u001b[38;5;124m\"\u001b[39m\u001b[38;5;124mDriver=\u001b[39m\u001b[38;5;124m{\u001b[39m\u001b[38;5;124mOracle in OraClient19Home1};DBQ=10.10.72.106:1521/dwhn;\u001b[39m\u001b[38;5;124m\"\u001b[39m\n\u001b[1;32m----> 8\u001b[0m connection \u001b[38;5;241m=\u001b[39m pyodbc\u001b[38;5;241m.\u001b[39mconnect(\u001b[38;5;124m\"\u001b[39m\u001b[38;5;124muid=\u001b[39m\u001b[38;5;124m\"\u001b[39m \u001b[38;5;241m+\u001b[39m username \u001b[38;5;241m+\u001b[39m \u001b[38;5;124m\"\u001b[39m\u001b[38;5;124m;pwd=\u001b[39m\u001b[38;5;124m\"\u001b[39m \u001b[38;5;241m+\u001b[39m password \u001b[38;5;241m+\u001b[39m \u001b[38;5;124m\"\u001b[39m\u001b[38;5;124m;\u001b[39m\u001b[38;5;124m\"\u001b[39m \u001b[38;5;241m+\u001b[39m dsn)\n\u001b[0;32m     10\u001b[0m \u001b[38;5;28;01mimport\u001b[39;00m \u001b[38;5;21;01mpandas\u001b[39;00m \u001b[38;5;28;01mas\u001b[39;00m \u001b[38;5;21;01mpd\u001b[39;00m\n\u001b[0;32m     12\u001b[0m \u001b[38;5;28;01mdef\u001b[39;00m \u001b[38;5;21mfetch_table_as_dataframe\u001b[39m(table_name):\n\u001b[0;32m     13\u001b[0m     \u001b[38;5;66;03m#cursor = connection.cursor()\u001b[39;00m\n",
      "\u001b[1;31mError\u001b[0m: ('HY000', '[HY000] [Oracle][ODBC][Ora]ORA-12170: TNS:Connect timeout occurred\\n (12170) (SQLDriverConnect); [HY000] [Oracle][ODBC][Ora]ORA-12170: TNS:Connect timeout occurred\\n (12170)')"
     ]
    }
   ],
   "source": [
    "import pyodbc\n",
    "\n",
    "# Connection details\n",
    "username = \"DWH_COE\"\n",
    "password = \"Silk0908$Coe\"\n",
    "dsn = \"Driver={Oracle in OraClient19Home1};DBQ=10.10.72.106:1521/dwhn;\"\n",
    "\n",
    "connection = pyodbc.connect(\"uid=\" + username + \";pwd=\" + password + \";\" + dsn)\n",
    "\n",
    "import pandas as pd\n",
    "\n",
    "def fetch_table_as_dataframe(table_name):\n",
    "    #cursor = connection.cursor()\n",
    "    \n",
    "    sql_query = f\"SELECT * FROM {table_name}\"\n",
    "    \n",
    "    return pd.read_sql(sql_query,connection)  # without parameters [non-prepared statement]\n",
    "\n",
    "\n",
    "# Assuming you have a pyodbc connection established and 'connection' is your connection object\n",
    "# Replace 'your_table_name' with the actual table name you want to fetch\n",
    "\n",
    "table_name = 'DWH_COE.GFK_SUBS'\n",
    "data = fetch_table_as_dataframe(table_name)\n",
    "\n",
    "\n"
   ]
  },
  {
   "cell_type": "code",
   "execution_count": 6,
   "id": "1c3b9b4d",
   "metadata": {},
   "outputs": [
    {
     "ename": "NameError",
     "evalue": "name 'data' is not defined",
     "output_type": "error",
     "traceback": [
      "\u001b[1;31m---------------------------------------------------------------------------\u001b[0m",
      "\u001b[1;31mNameError\u001b[0m                                 Traceback (most recent call last)",
      "Cell \u001b[1;32mIn[6], line 1\u001b[0m\n\u001b[1;32m----> 1\u001b[0m data\n",
      "\u001b[1;31mNameError\u001b[0m: name 'data' is not defined"
     ]
    }
   ],
   "source": [
    "data"
   ]
  },
  {
   "cell_type": "code",
   "execution_count": null,
   "id": "63b46886",
   "metadata": {},
   "outputs": [],
   "source": []
  }
 ],
 "metadata": {
  "kernelspec": {
   "display_name": "Python 3 (ipykernel)",
   "language": "python",
   "name": "python3"
  },
  "language_info": {
   "codemirror_mode": {
    "name": "ipython",
    "version": 3
   },
   "file_extension": ".py",
   "mimetype": "text/x-python",
   "name": "python",
   "nbconvert_exporter": "python",
   "pygments_lexer": "ipython3",
   "version": "3.11.3"
  }
 },
 "nbformat": 4,
 "nbformat_minor": 5
}
